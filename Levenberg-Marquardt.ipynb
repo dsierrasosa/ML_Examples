{
 "cells": [
  {
   "cell_type": "code",
   "execution_count": 1,
   "metadata": {},
   "outputs": [],
   "source": [
    "import itertools\n",
    "import numpy as np\n",
    "import pyrenn as prn\n",
    "import sklearn.datasets as skd\n",
    "import matplotlib.pyplot as plt\n",
    "from matplotlib.patches import Wedge\n",
    "from sklearn.metrics import confusion_matrix\n",
    "from sklearn.metrics import classification_report\n",
    "from sklearn.model_selection import train_test_split"
   ]
  },
  {
   "cell_type": "code",
   "execution_count": 2,
   "metadata": {},
   "outputs": [],
   "source": [
    "space = 1.6"
   ]
  },
  {
   "cell_type": "code",
   "execution_count": 3,
   "metadata": {},
   "outputs": [],
   "source": [
    "x,y = skd.make_classification(n_samples=3200, n_features=4, n_redundant=0, random_state=6, class_sep=.4)\n",
    "x,y = skd.make_blobs(n_samples=3200, centers=2, n_features=4, random_state=6, center_box=(-space, space))"
   ]
  },
  {
   "cell_type": "code",
   "execution_count": 4,
   "metadata": {},
   "outputs": [],
   "source": [
    "x_train, x_test_, y_train, y_test_ = train_test_split(x, y, test_size=0.32, random_state=42)\n",
    "\n",
    "## needs to be divisible by two for expectation layer\n",
    "x_train, y_train = x_train[0:2048], y_train[0:2048]\n",
    "x_test, x_val = x_test_[:int(len(x_test_)/2)], x_test_[int(len(x_test_)/2):]\n",
    "y_test, y_val = y_test_[:int(len(y_test_)/2)], y_test_[int(len(y_test_)/2):]"
   ]
  },
  {
   "cell_type": "code",
   "execution_count": 5,
   "metadata": {},
   "outputs": [],
   "source": [
    "def one_hot(labels, n_class = 2):\n",
    "    \"\"\" One-hot encoding \"\"\"\n",
    "    expansion = np.eye(n_class)\n",
    "    y = expansion[:, labels-1]\n",
    "    assert y.shape[0] == n_class, \"Wrong number of labels!\"\n",
    "    return y"
   ]
  },
  {
   "cell_type": "code",
   "execution_count": 6,
   "metadata": {},
   "outputs": [],
   "source": [
    "def error_rate(predictions, labels,NUM_LABELS=2):\n",
    "    \"\"\"Return the error rate and confusions.\"\"\"\n",
    "    correct = np.sum(predictions == labels)\n",
    "    total = np.asarray(predictions).shape[0]\n",
    "\n",
    "    error = 100.0 - (100 * float(correct) / float(total))\n",
    "\n",
    "    confusions = np.zeros([NUM_LABELS, NUM_LABELS], np.int32)\n",
    "    bundled = zip(predictions, labels)\n",
    "    for predicted, actual in bundled:\n",
    "        confusions[int(predicted), int(actual)] += 1\n",
    "    return error, confusions"
   ]
  },
  {
   "cell_type": "code",
   "execution_count": 7,
   "metadata": {},
   "outputs": [],
   "source": [
    "def plot_confusion_matrix(cm, classes,\n",
    "                          normalize=False,\n",
    "                          title='Confusion matrix',\n",
    "                          cmap=plt.cm.Blues):\n",
    "    \"\"\"\n",
    "    This function prints and plots the confusion matrix.\n",
    "    Normalization can be applied by setting `normalize=True`.\n",
    "    \"\"\"\n",
    "    if normalize:\n",
    "        cm = cm.astype('float') / cm.sum(axis=1)[:, np.newaxis]\n",
    "        print(\"Normalized confusion matrix\")\n",
    "    else:\n",
    "        print('Confusion matrix, without normalization')\n",
    "\n",
    "    print(cm)\n",
    "\n",
    "    plt.imshow(cm, interpolation='nearest', cmap=cmap)\n",
    "    plt.title(title)\n",
    "    plt.colorbar()\n",
    "    tick_marks = np.arange(len(classes))\n",
    "    plt.xticks(tick_marks, classes, rotation=45)\n",
    "    plt.yticks(tick_marks, classes)\n",
    "\n",
    "    fmt = '.2f' if normalize else 'd'\n",
    "    thresh = cm.max() / 2.\n",
    "    for i, j in itertools.product(range(cm.shape[0]), range(cm.shape[1])):\n",
    "        plt.text(j, i, format(cm[i, j], fmt),\n",
    "                 horizontalalignment=\"center\",\n",
    "                 color=\"white\" if cm[i, j] > thresh else \"black\")\n",
    "\n",
    "    plt.ylabel('True label')\n",
    "    plt.xlabel('Predicted label')\n",
    "    plt.tight_layout()\n",
    "    "
   ]
  },
  {
   "cell_type": "code",
   "execution_count": 8,
   "metadata": {},
   "outputs": [],
   "source": [
    "net = prn.CreateNN([4,12,2])"
   ]
  },
  {
   "cell_type": "code",
   "execution_count": 9,
   "metadata": {},
   "outputs": [
    {
     "name": "stdout",
     "output_type": "stream",
     "text": [
      "Iteration:  0 \t\tError:  2408.5980304800014 \tscale factor:  3.0\n",
      "Iteration:  1 \t\tError:  585.1643639909705 \tscale factor:  0.3\n",
      "Iteration:  2 \t\tError:  257.14710501216405 \tscale factor:  0.3\n",
      "Iteration:  3 \t\tError:  214.18980532205177 \tscale factor:  0.3\n",
      "Iteration:  4 \t\tError:  192.3398568542382 \tscale factor:  0.3\n",
      "Iteration:  5 \t\tError:  189.2844589863075 \tscale factor:  0.3\n",
      "Iteration:  6 \t\tError:  187.72523377857993 \tscale factor:  0.3\n",
      "Iteration:  7 \t\tError:  187.36650618024493 \tscale factor:  0.03\n",
      "Iteration:  8 \t\tError:  184.49318556059143 \tscale factor:  0.03\n",
      "Iteration:  9 \t\tError:  183.92779806981508 \tscale factor:  0.03\n",
      "Iteration:  10 \t\tError:  183.56388714828194 \tscale factor:  0.03\n",
      "Iteration:  11 \t\tError:  183.4294151795497 \tscale factor:  0.03\n",
      "Iteration:  12 \t\tError:  183.35393029209408 \tscale factor:  0.03\n",
      "Iteration:  13 \t\tError:  183.31324015442954 \tscale factor:  0.03\n",
      "Iteration:  14 \t\tError:  183.27988329666235 \tscale factor:  0.03\n",
      "Iteration:  15 \t\tError:  183.24702020186731 \tscale factor:  0.03\n",
      "Iteration:  16 \t\tError:  183.21655217700896 \tscale factor:  0.03\n",
      "Iteration:  17 \t\tError:  183.1883561736903 \tscale factor:  0.03\n",
      "Iteration:  18 \t\tError:  183.1607848616752 \tscale factor:  0.03\n",
      "Iteration:  19 \t\tError:  183.13246339355806 \tscale factor:  0.03\n",
      "Iteration:  20 \t\tError:  183.1022588783929 \tscale factor:  0.03\n",
      "Iteration:  21 \t\tError:  183.06900405060549 \tscale factor:  0.03\n",
      "Iteration:  22 \t\tError:  183.03200705046052 \tscale factor:  0.03\n",
      "Iteration:  23 \t\tError:  182.99293506761302 \tscale factor:  0.03\n",
      "Iteration:  24 \t\tError:  182.95976097914578 \tscale factor:  0.03\n",
      "Iteration:  25 \t\tError:  182.94058831171915 \tscale factor:  0.03\n",
      "Iteration:  26 \t\tError:  182.90640772866004 \tscale factor:  0.03\n",
      "Iteration:  27 \t\tError:  182.79051641570356 \tscale factor:  0.03\n",
      "Iteration:  28 \t\tError:  182.6368850231259 \tscale factor:  0.03\n",
      "Iteration:  29 \t\tError:  182.51570368498693 \tscale factor:  0.03\n",
      "Iteration:  30 \t\tError:  182.41159306507285 \tscale factor:  0.03\n",
      "Iteration:  31 \t\tError:  182.32837169164938 \tscale factor:  0.03\n",
      "Iteration:  32 \t\tError:  182.2613285852313 \tscale factor:  0.03\n",
      "Iteration:  33 \t\tError:  182.0914074360233 \tscale factor:  0.03\n",
      "Iteration:  34 \t\tError:  181.67188590796286 \tscale factor:  0.03\n",
      "Iteration:  35 \t\tError:  181.1451378956886 \tscale factor:  0.03\n",
      "Iteration:  36 \t\tError:  180.88316758536712 \tscale factor:  0.03\n",
      "Iteration:  37 \t\tError:  180.73026959954808 \tscale factor:  0.03\n",
      "Iteration:  38 \t\tError:  180.66774365124417 \tscale factor:  0.03\n",
      "Iteration:  39 \t\tError:  180.6307395015432 \tscale factor:  0.03\n",
      "Iteration:  40 \t\tError:  180.6058556443823 \tscale factor:  0.03\n",
      "Iteration:  41 \t\tError:  180.58689323150895 \tscale factor:  0.03\n",
      "Iteration:  42 \t\tError:  180.5707123290539 \tscale factor:  0.03\n",
      "Iteration:  43 \t\tError:  180.55538401128615 \tscale factor:  0.03\n",
      "Iteration:  44 \t\tError:  180.53958817789274 \tscale factor:  0.03\n",
      "Iteration:  45 \t\tError:  180.5225000972033 \tscale factor:  0.03\n",
      "Iteration:  46 \t\tError:  180.5036651560439 \tscale factor:  0.03\n",
      "Iteration:  47 \t\tError:  180.482646594522 \tscale factor:  0.03\n",
      "Iteration:  48 \t\tError:  180.45940503822413 \tscale factor:  0.03\n",
      "Iteration:  49 \t\tError:  180.43488883727224 \tscale factor:  0.03\n",
      "Iteration:  50 \t\tError:  180.4095539088127 \tscale factor:  0.03\n",
      "Iteration:  51 \t\tError:  180.38229511947642 \tscale factor:  0.03\n",
      "Iteration:  52 \t\tError:  180.3513374544504 \tscale factor:  0.03\n",
      "Iteration:  53 \t\tError:  180.31527428591096 \tscale factor:  0.03\n",
      "Iteration:  54 \t\tError:  180.27344583297318 \tscale factor:  0.03\n",
      "Iteration:  55 \t\tError:  180.22422285918645 \tscale factor:  0.03\n",
      "Iteration:  56 \t\tError:  180.1636906487251 \tscale factor:  0.03\n",
      "Iteration:  57 \t\tError:  180.0913206244531 \tscale factor:  0.03\n",
      "Iteration:  58 \t\tError:  180.00741476152575 \tscale factor:  0.03\n",
      "Iteration:  59 \t\tError:  179.91046584612093 \tscale factor:  0.03\n",
      "Iteration:  60 \t\tError:  179.80496840050196 \tscale factor:  0.03\n",
      "Iteration:  61 \t\tError:  179.69649589687728 \tscale factor:  0.03\n",
      "Iteration:  62 \t\tError:  179.56853292883955 \tscale factor:  0.03\n",
      "Iteration:  63 \t\tError:  179.4079680573217 \tscale factor:  0.03\n",
      "Iteration:  64 \t\tError:  179.24027062020875 \tscale factor:  0.03\n",
      "Iteration:  65 \t\tError:  179.0833398850483 \tscale factor:  0.03\n",
      "Iteration:  66 \t\tError:  178.9345677528662 \tscale factor:  0.03\n",
      "Iteration:  67 \t\tError:  178.79860976166785 \tscale factor:  0.03\n",
      "Iteration:  68 \t\tError:  178.68392160819633 \tscale factor:  0.03\n",
      "Iteration:  69 \t\tError:  178.5885458496291 \tscale factor:  0.03\n",
      "Iteration:  70 \t\tError:  178.5056119400861 \tscale factor:  0.03\n",
      "Iteration:  71 \t\tError:  178.4305201272395 \tscale factor:  0.03\n",
      "Iteration:  72 \t\tError:  178.36136801058967 \tscale factor:  0.03\n",
      "Iteration:  73 \t\tError:  178.2974708465112 \tscale factor:  0.03\n",
      "Iteration:  74 \t\tError:  178.23758387705263 \tscale factor:  0.03\n",
      "Iteration:  75 \t\tError:  178.17866478867882 \tscale factor:  0.03\n",
      "Iteration:  76 \t\tError:  178.11588999109466 \tscale factor:  0.03\n",
      "Iteration:  77 \t\tError:  178.0434417033865 \tscale factor:  0.03\n",
      "Iteration:  78 \t\tError:  177.9552238577855 \tscale factor:  0.03\n",
      "Iteration:  79 \t\tError:  177.8465773235332 \tscale factor:  0.03\n",
      "Iteration:  80 \t\tError:  177.72182791103955 \tscale factor:  0.03\n",
      "Iteration:  81 \t\tError:  177.59933699109615 \tscale factor:  0.03\n",
      "Iteration:  82 \t\tError:  177.48820001971532 \tscale factor:  0.03\n",
      "Iteration:  83 \t\tError:  177.39166400447894 \tscale factor:  0.03\n",
      "Iteration:  84 \t\tError:  177.31186743040325 \tscale factor:  0.03\n",
      "Iteration:  85 \t\tError:  177.24381418870564 \tscale factor:  0.03\n",
      "Iteration:  86 \t\tError:  177.1827126176907 \tscale factor:  0.03\n",
      "Iteration:  87 \t\tError:  177.12517811977568 \tscale factor:  0.03\n",
      "Iteration:  88 \t\tError:  177.068628066717 \tscale factor:  0.03\n",
      "Iteration:  89 \t\tError:  177.0626427606589 \tscale factor:  0.003\n",
      "Iteration:  90 \t\tError:  176.7821152793627 \tscale factor:  0.003\n",
      "Iteration:  91 \t\tError:  176.5632733725532 \tscale factor:  0.03\n",
      "Iteration:  92 \t\tError:  176.3792647264478 \tscale factor:  0.003\n",
      "Iteration:  93 \t\tError:  176.08690531707055 \tscale factor:  0.003\n",
      "Iteration:  94 \t\tError:  175.6964618997523 \tscale factor:  0.003\n",
      "Iteration:  95 \t\tError:  175.46245479304963 \tscale factor:  0.03\n",
      "Iteration:  96 \t\tError:  175.3806987142978 \tscale factor:  0.03\n",
      "Iteration:  97 \t\tError:  175.31121846669714 \tscale factor:  0.03\n",
      "Iteration:  98 \t\tError:  175.23910217705617 \tscale factor:  0.03\n",
      "Iteration:  99 \t\tError:  175.1574983137826 \tscale factor:  0.03\n",
      "Iteration:  100 \t\tError:  175.04934021599536 \tscale factor:  0.03\n",
      "Maximum number of iterations reached\n"
     ]
    }
   ],
   "source": [
    "# batch_size = 50\n",
    "number_of_batches= 1\n",
    "k_iter = 100\n",
    "error_stop = 1e-15\n",
    "norms = []\n",
    "\n",
    "r = 0\n",
    "Data = x_train\n",
    "# for i in range(4):\n",
    "#     n_ = 1/np.max(Train_Input[:,i])\n",
    "#     norms.append(n_)\n",
    "# print(norms)\n",
    "\n",
    "# Train_Input = np.zeros(Data.shape)\n",
    "# for i in range(2*batch_size):\n",
    "#     Train_Input[i,:] = np.multiply(Data[i,:],norms)\n",
    "Train_Input = Data\n",
    "\n",
    "y_Input = y_train\n",
    "y_Input_coded = one_hot(y_Input.astype(int))\n",
    "\n",
    "# for i in range(number_of_batches):\n",
    "#     r = np.random.randint(0,Data_Class1.shape[0]-batch_size)\n",
    "#     r = 0\n",
    "#     Train_Class0 = Data_Class0[r:r+batch_size,:]\n",
    "#     Train_Class1 = Data_Class1[r:r+batch_size,:]\n",
    "#     Data = np.concatenate((Train_Class0,Train_Class1),axis=0)\n",
    "\n",
    "#     Train_Input = Data[:,3:48]\n",
    "#     Train_Input = normalize(Train_Input[:,:], axis=1, norm='max')\n",
    "#     y_Input = Data[:,-1]\n",
    "#     y_Input_coded = one_hot(y_Input.astype(int))\n",
    "\n",
    "net_LM = prn.train_LM(np.transpose(Train_Input.astype('float32')),y_Input_coded,net,verbose=True,k_max=k_iter,E_stop=error_stop)\n",
    "#     print('Batch No. ',i,' of ',number_of_batches)"
   ]
  },
  {
   "cell_type": "code",
   "execution_count": 10,
   "metadata": {},
   "outputs": [],
   "source": [
    "# Prediction of Validation set\n",
    "y = prn.NNOut(np.transpose(x_val),net_LM)"
   ]
  },
  {
   "cell_type": "code",
   "execution_count": 11,
   "metadata": {},
   "outputs": [],
   "source": [
    "pred_ = []\n",
    "for m in range(y_val.shape[0]):\n",
    "    #print(np.abs(np.argmax(y[:,m])-1))\n",
    "    pred_.append(np.abs(np.argmax(y[:,m])-1))"
   ]
  },
  {
   "cell_type": "code",
   "execution_count": 12,
   "metadata": {},
   "outputs": [
    {
     "name": "stdout",
     "output_type": "stream",
     "text": [
      "Confusion matrix, without normalization\n",
      "[[251  16]\n",
      " [ 15 230]]\n",
      "Normalized confusion matrix\n",
      "[[0.94 0.06]\n",
      " [0.06 0.94]]\n"
     ]
    },
    {
     "data": {
      "image/png": "[encoded data removed]",
      "text/plain": [
       "<Figure size 432x288 with 2 Axes>"
      ]
     },
     "metadata": {
      "needs_background": "light"
     },
     "output_type": "display_data"
    },
    {
     "data": {
      "image/png": "[encoded data removed]",
      "text/plain": [
       "<Figure size 432x288 with 2 Axes>"
      ]
     },
     "metadata": {
      "needs_background": "light"
     },
     "output_type": "display_data"
    },
    {
     "name": "stdout",
     "output_type": "stream",
     "text": [
      "Test error: 6.1%\n",
      "              precision    recall  f1-score   support\n",
      "\n",
      "           0       0.94      0.94      0.94       267\n",
      "           1       0.93      0.94      0.94       245\n",
      "\n",
      "    accuracy                           0.94       512\n",
      "   macro avg       0.94      0.94      0.94       512\n",
      "weighted avg       0.94      0.94      0.94       512\n",
      "\n"
     ]
    }
   ],
   "source": [
    "real_ = y_val\n",
    "class_names = [\"Class 0\" , \"Class 1\"]\n",
    "cnf_matrix = confusion_matrix(real_, pred_)\n",
    "np.set_printoptions(precision=2)\n",
    "\n",
    "# Plot non-normalized confusion matrix\n",
    "plt.figure()\n",
    "plot_confusion_matrix(cnf_matrix, classes=class_names,\n",
    "                      title='Confusion matrix, without normalization')\n",
    "\n",
    "# Plot normalized confusion matrix\n",
    "plt.figure()\n",
    "plot_confusion_matrix(cnf_matrix, classes=class_names, normalize=True,\n",
    "                      title='Normalized confusion matrix')\n",
    "\n",
    "plt.show()\n",
    "test_error, confusions = error_rate(pred_,real_)\n",
    "print('Test error: %.1f%%' % test_error)\n",
    "print(classification_report(real_, pred_))"
   ]
  },
  {
   "cell_type": "code",
   "execution_count": null,
   "metadata": {},
   "outputs": [],
   "source": []
  },
  {
   "cell_type": "code",
   "execution_count": null,
   "metadata": {},
   "outputs": [],
   "source": []
  }
 ],
 "metadata": {
  "kernelspec": {
   "display_name": "Python 3",
   "language": "python",
   "name": "python3"
  },
  "language_info": {
   "codemirror_mode": {
    "name": "ipython",
    "version": 3
   },
   "file_extension": ".py",
   "mimetype": "text/x-python",
   "name": "python",
   "nbconvert_exporter": "python",
   "pygments_lexer": "ipython3",
   "version": "3.7.7"
  }
 },
 "nbformat": 4,
 "nbformat_minor": 4
}
